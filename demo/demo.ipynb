{
 "cells": [
  {
   "cell_type": "code",
   "execution_count": 1,
   "metadata": {},
   "outputs": [],
   "source": [
    "import argdeco"
   ]
  },
  {
   "cell_type": "code",
   "execution_count": 2,
   "metadata": {},
   "outputs": [],
   "source": [
    "@argdeco.add_argument(\"--foo\", help=\"foo help\")\n",
    "@argdeco.argument_parser()\n",
    "def parser(foo):\n",
    "    pass"
   ]
  },
  {
   "cell_type": "code",
   "execution_count": 3,
   "metadata": {},
   "outputs": [
    {
     "name": "stdout",
     "output_type": "stream",
     "text": [
      "usage: ipykernel_launcher.py [-h] [--foo FOO]\n",
      "\n",
      "optional arguments:\n",
      "  -h, --help  show this help message and exit\n",
      "  --foo FOO   foo help\n"
     ]
    }
   ],
   "source": [
    "try:\n",
    "    parser([\"--help\"])\n",
    "except SystemExit:\n",
    "    pass"
   ]
  },
  {
   "cell_type": "code",
   "execution_count": 4,
   "metadata": {},
   "outputs": [],
   "source": [
    "# create the top-level parser\n",
    "@argdeco.add_subparsers(help=\"sub-command help\")\n",
    "@argdeco.add_argument(\"--foo\", action=\"store_true\", help=\"foo help\")\n",
    "@argdeco.argument_parser(prog=\"PROG\")\n",
    "def parser(**kwargs):\n",
    "    print(\"parser\")\n",
    "    print(kwargs)"
   ]
  },
  {
   "cell_type": "code",
   "execution_count": 5,
   "metadata": {},
   "outputs": [],
   "source": [
    "# create the parser for the \"a\" command\n",
    "@argdeco.add_argument(\"bar\", type=int, help=\"bar help\")\n",
    "@argdeco.add_parser(parser, \"a\", help=\"a help\")\n",
    "def parser_a(**kwargs):\n",
    "    print(\"parser_a\")\n",
    "    print(kwargs)"
   ]
  },
  {
   "cell_type": "code",
   "execution_count": 6,
   "metadata": {},
   "outputs": [],
   "source": [
    "# create the parser for the \"b\" command\n",
    "@argdeco.add_argument(\"--baz\", choices=\"XYZ\", help=\"baz help\")\n",
    "@argdeco.add_parser(parser, \"b\", help=\"b help\")\n",
    "def parser_b(**kwargs):\n",
    "    print(\"parser_b\")\n",
    "    print(kwargs)"
   ]
  },
  {
   "cell_type": "code",
   "execution_count": 7,
   "metadata": {},
   "outputs": [
    {
     "name": "stdout",
     "output_type": "stream",
     "text": [
      "parser\n",
      "{'foo': False, 'bar': 12}\n",
      "parser\n",
      "{'foo': True, 'baz': 'Z'}\n"
     ]
    }
   ],
   "source": [
    "parser([\"a\", \"12\"])\n",
    "parser([\"--foo\", \"b\", \"--baz\", \"Z\"])"
   ]
  },
  {
   "cell_type": "code",
   "execution_count": 8,
   "metadata": {},
   "outputs": [
    {
     "name": "stdout",
     "output_type": "stream",
     "text": [
      "usage: PROG [--foo FOO] bar\n",
      "\n",
      "group:\n",
      "  --foo FOO  foo help\n",
      "  bar        bar help\n"
     ]
    }
   ],
   "source": [
    "@argdeco.add_argument(\"bar\", help=\"bar help\")\n",
    "@argdeco.add_argument(\"--foo\", help=\"foo help\")\n",
    "@argdeco.add_argument_group(title=\"group\")\n",
    "@argdeco.argument_parser(prog=\"PROG\", add_help=False)\n",
    "def parser(**kwargs):\n",
    "    pass\n",
    "\n",
    "parser.print_help()"
   ]
  },
  {
   "cell_type": "code",
   "execution_count": 16,
   "metadata": {},
   "outputs": [
    {
     "name": "stdout",
     "output_type": "stream",
     "text": [
      "usage: PROG [--foo1 FOO1] [--foo2 FOO2] bar1 bar2\n",
      "\n",
      "group1:\n",
      "  --foo1 FOO1  foo help\n",
      "  bar1         bar help\n",
      "\n",
      "group2:\n",
      "  --foo2 FOO2  foo help\n",
      "  bar2         bar help\n"
     ]
    }
   ],
   "source": [
    "@argdeco.add_argument(\"bar2\", help=\"bar help\")\n",
    "@argdeco.add_argument(\"--foo2\", help=\"foo help\")\n",
    "@argdeco.add_argument_group(title=\"group2\")\n",
    "@argdeco.add_argument(\"bar1\", help=\"bar help\")\n",
    "@argdeco.add_argument(\"--foo1\", help=\"foo help\")\n",
    "@argdeco.add_argument_group(title=\"group1\")\n",
    "@argdeco.argument_parser(prog=\"PROG\", add_help=False)\n",
    "def parser(**kwargs):\n",
    "    pass\n",
    "\n",
    "parser.print_help()"
   ]
  },
  {
   "cell_type": "code",
   "execution_count": 9,
   "metadata": {},
   "outputs": [
    {
     "name": "stdout",
     "output_type": "stream",
     "text": [
      "{'foo': True, 'bar': True}\n",
      "{'foo': False, 'bar': False}\n"
     ]
    },
    {
     "name": "stderr",
     "output_type": "stream",
     "text": [
      "usage: PROG [-h] [--foo | --bar]\n",
      "PROG: error: argument --bar: not allowed with argument --foo\n"
     ]
    }
   ],
   "source": [
    "@argdeco.add_argument(\"--bar\", action=\"store_false\")\n",
    "@argdeco.add_argument(\"--foo\", action=\"store_true\")\n",
    "@argdeco.add_mutually_exclusive_group()\n",
    "@argdeco.argument_parser(prog=\"PROG\")\n",
    "def parser(**kwargs):\n",
    "    print(kwargs)\n",
    "\n",
    "parser([\"--foo\"])\n",
    "parser([\"--bar\"])\n",
    "try:\n",
    "    parser([\"--foo\", \"--bar\"])\n",
    "except SystemExit:\n",
    "    pass"
   ]
  },
  {
   "cell_type": "code",
   "execution_count": 10,
   "metadata": {},
   "outputs": [
    {
     "data": {
      "text/plain": [
       "(<function __main__.prog(self)>,\n",
       " ArgumentParser(prog='ipykernel_launcher.py', usage=None, description=None, formatter_class=<class 'argparse.HelpFormatter'>, conflict_handler='error', add_help=True))"
      ]
     },
     "execution_count": 10,
     "metadata": {},
     "output_type": "execute_result"
    }
   ],
   "source": [
    "@argdeco.argument_parser()\n",
    "def prog(self):\n",
    "    pass\n",
    "prog.__wrapped__, prog"
   ]
  },
  {
   "cell_type": "code",
   "execution_count": 11,
   "metadata": {},
   "outputs": [],
   "source": [
    "class Prog:\n",
    "\n",
    "    @argdeco.argument_parser()\n",
    "    def parser(self):\n",
    "        pass"
   ]
  },
  {
   "cell_type": "code",
   "execution_count": 12,
   "metadata": {},
   "outputs": [],
   "source": [
    "@argdeco.argument_parser()\n",
    "class Prog:\n",
    "    pass"
   ]
  },
  {
   "cell_type": "code",
   "execution_count": 13,
   "metadata": {},
   "outputs": [],
   "source": [
    "class Prog:\n",
    "\n",
    "    @argdeco.argument_parser()\n",
    "    def __call__(self):\n",
    "        pass"
   ]
  },
  {
   "cell_type": "code",
   "execution_count": 14,
   "metadata": {},
   "outputs": [
    {
     "name": "stdout",
     "output_type": "stream",
     "text": [
      "usage: PROG [-h]\n",
      "\n",
      "optional arguments:\n",
      "  -h, --help  show this help message and exit\n"
     ]
    }
   ],
   "source": [
    "@argdeco.argument_parser(prog=\"PROG\")\n",
    "def parser():\n",
    "    parser.print_help()\n",
    "\n",
    "parser([])"
   ]
  },
  {
   "cell_type": "code",
   "execution_count": 15,
   "metadata": {},
   "outputs": [
    {
     "name": "stdout",
     "output_type": "stream",
     "text": [
      "()\n",
      "usage: PROG [-h]\n",
      "\n",
      "optional arguments:\n",
      "  -h, --help  show this help message and exit\n"
     ]
    }
   ],
   "source": [
    "class Prog:\n",
    "\n",
    "    @argdeco.argument_parser(prog=\"PROG\")\n",
    "    def __call__(self, *args):\n",
    "        print(args)\n",
    "        Prog.__call__.print_help()\n",
    "\n",
    "prog = Prog()\n",
    "prog([])"
   ]
  }
 ],
 "metadata": {
  "kernelspec": {
   "display_name": "Python 3",
   "language": "python",
   "name": "python3"
  },
  "language_info": {
   "codemirror_mode": {
    "name": "ipython",
    "version": 3
   },
   "file_extension": ".py",
   "mimetype": "text/x-python",
   "name": "python",
   "nbconvert_exporter": "python",
   "pygments_lexer": "ipython3",
   "version": "3.9.17"
  },
  "orig_nbformat": 4
 },
 "nbformat": 4,
 "nbformat_minor": 2
}
